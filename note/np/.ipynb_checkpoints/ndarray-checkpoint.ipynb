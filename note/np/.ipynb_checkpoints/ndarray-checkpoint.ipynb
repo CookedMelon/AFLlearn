{
 "cells": [
  {
   "cell_type": "code",
   "execution_count": 1,
   "id": "05bd2fed-06be-4783-b2b8-5e02cbb0f8e2",
   "metadata": {},
   "outputs": [],
   "source": [
    "from mxnet import ndarray as nd"
   ]
  },
  {
   "cell_type": "code",
   "execution_count": 2,
   "id": "262ad747-70e0-4aed-bc16-eb2cd74e8a7d",
   "metadata": {},
   "outputs": [
    {
     "data": {
      "text/plain": [
       "\n",
       "[[0. 0. 0. 0.]\n",
       " [0. 0. 0. 0.]\n",
       " [0. 0. 0. 0.]]\n",
       "<NDArray 3x4 @cpu(0)>"
      ]
     },
     "execution_count": 2,
     "metadata": {},
     "output_type": "execute_result"
    }
   ],
   "source": [
    "nd.zeros((3,4))"
   ]
  },
  {
   "cell_type": "code",
   "execution_count": 3,
   "id": "df606527-f5f3-4592-b544-1ffd6294b43b",
   "metadata": {},
   "outputs": [],
   "source": [
    "x=nd.ones((4,5))"
   ]
  },
  {
   "cell_type": "code",
   "execution_count": 4,
   "id": "4daf5acb-0c10-494f-b537-cca2d87d9724",
   "metadata": {},
   "outputs": [
    {
     "data": {
      "text/plain": [
       "\n",
       "[[1. 1. 1. 1. 1.]\n",
       " [1. 1. 1. 1. 1.]\n",
       " [1. 1. 1. 1. 1.]\n",
       " [1. 1. 1. 1. 1.]]\n",
       "<NDArray 4x5 @cpu(0)>"
      ]
     },
     "execution_count": 4,
     "metadata": {},
     "output_type": "execute_result"
    }
   ],
   "source": [
    "x"
   ]
  },
  {
   "cell_type": "code",
   "execution_count": 6,
   "id": "7c86afc2-21e7-4804-ac2a-781cc00e9ed5",
   "metadata": {},
   "outputs": [
    {
     "data": {
      "text/plain": [
       "\n",
       "[[1. 3.]\n",
       " [3. 3.]]\n",
       "<NDArray 2x2 @cpu(0)>"
      ]
     },
     "execution_count": 6,
     "metadata": {},
     "output_type": "execute_result"
    }
   ],
   "source": [
    "nd.array([[1,3],[3,3]])"
   ]
  },
  {
   "cell_type": "markdown",
   "id": "3fc7876a-991c-4c19-9044-13101a5d9aba",
   "metadata": {},
   "source": [
    "# 线性回归\n",
    "$\\hat{y}=Xw+b$\n",
    "\n",
    "$y[i] = 2 * X[i][0] - 3.4 * X[i][1] + 4.2 + noise$\n",
    "\n",
    "noise为均值为0方差为0.1的正态分布噪音"
   ]
  },
  {
   "cell_type": "code",
   "execution_count": 11,
   "id": "26075347-1896-414c-b2db-2259d07b56bd",
   "metadata": {},
   "outputs": [],
   "source": [
    "from mxnet import ndarray as nd , autograd\n",
    "\n",
    "num_inputs = 2\n",
    "num_examples = 100\n",
    "true_w = [2, -3.4]\n",
    "true_b = 4.2\n",
    "X = nd.random_normal(shape=(num_examples,num_inputs))\n",
    "y = true_w[0] * X[:, 0] + true_w[1] * X[:, 1] + true_b\n",
    "y += .01 * nd.random_normal(shape=y.shape) # 均值为0方差为0.1的正态分布噪音"
   ]
  },
  {
   "cell_type": "code",
   "execution_count": 15,
   "id": "95e4a6e3-ee69-4a5a-badb-689ddbea15b5",
   "metadata": {},
   "outputs": [
    {
     "data": {
      "text/plain": [
       "\n",
       "[0.48841557]\n",
       "<NDArray 1 @cpu(0)>"
      ]
     },
     "execution_count": 15,
     "metadata": {},
     "output_type": "execute_result"
    }
   ],
   "source": [
    "X[0]\n",
    "y[0]"
   ]
  },
  {
   "cell_type": "markdown",
   "id": "1970cd19-ea18-4007-b7a0-969d37af55ec",
   "metadata": {},
   "source": [
    "## 数据读取"
   ]
  },
  {
   "cell_type": "code",
   "execution_count": 26,
   "id": "46b99dee-6bdf-40da-a5bb-9bb6f861809f",
   "metadata": {},
   "outputs": [],
   "source": [
    "import random\n",
    "batch_size = 10\n",
    "def data_iter():\n",
    "    idx = list(range(num_examples)) # 0,1,2...\n",
    "    # print(idx)\n",
    "    random.shuffle(idx) # 打乱\n",
    "    # print(idx)\n",
    "    for i in range(0,num_examples,batch_size):\n",
    "        j = nd.array(idx[i:min(i+batch_size,num_examples)])\n",
    "        yield nd.take(X, j), nd.take(y, j)"
   ]
  },
  {
   "cell_type": "code",
   "execution_count": 29,
   "id": "b7ea96c6-8ea0-4718-a08c-ce08d8693f46",
   "metadata": {},
   "outputs": [
    {
     "name": "stdout",
     "output_type": "stream",
     "text": [
      "\n",
      "[[ 0.16687097 -0.46041864]\n",
      " [ 1.1116904   1.4935805 ]\n",
      " [ 0.5618714   1.9614024 ]\n",
      " [ 0.98779184 -0.06212901]\n",
      " [-1.3985771   0.8675137 ]\n",
      " [-0.13258979  0.5115878 ]\n",
      " [ 0.09316857  0.11958748]\n",
      " [ 0.1746321  -1.458135  ]\n",
      " [-2.0169916  -0.6378048 ]\n",
      " [ 1.2391653   0.2518609 ]]\n",
      "<NDArray 10x2 @cpu(0)> \n",
      "[ 6.106396   1.3279362 -1.3384995  6.374099  -1.545251   2.1988962\n",
      "  3.975011   9.519801   2.3291712  5.8152966]\n",
      "<NDArray 10 @cpu(0)>\n"
     ]
    }
   ],
   "source": [
    "for data, label in data_iter():\n",
    "    print(data,label)\n",
    "    break\n",
    "    "
   ]
  },
  {
   "cell_type": "markdown",
   "id": "0b2be388-788c-4c4d-88e4-a27d4ccb14d0",
   "metadata": {},
   "source": [
    "## 初始化模型参数\n",
    "参考w ，b真实值，一个是2*1，一个是1*1\n",
    "初始时随便设值，之后不断更新w和b接近wb真实值"
   ]
  },
  {
   "cell_type": "code",
   "execution_count": 38,
   "id": "100bd8dd-9188-40ec-ae95-5ca8768924a9",
   "metadata": {},
   "outputs": [
    {
     "data": {
      "text/plain": [
       "[\n",
       " [[ 0.44456944]\n",
       "  [-0.01124159]]\n",
       " <NDArray 2x1 @cpu(0)>,\n",
       " \n",
       " [0.]\n",
       " <NDArray 1 @cpu(0)>]"
      ]
     },
     "execution_count": 38,
     "metadata": {},
     "output_type": "execute_result"
    }
   ],
   "source": [
    "w = nd.random_normal(shape=(num_inputs,1))\n",
    "b = nd.zeros((1, ))\n",
    "params = [w,b]\n",
    "params"
   ]
  },
  {
   "cell_type": "code",
   "execution_count": 39,
   "id": "d446d6d8-edf1-443b-8049-c8f204b8e093",
   "metadata": {},
   "outputs": [],
   "source": [
    "for param in params:\n",
    "    param.attach_grad()"
   ]
  },
  {
   "cell_type": "markdown",
   "id": "bc049386-75bf-47fc-bc41-8eb0664f191b",
   "metadata": {},
   "source": [
    "## 定义模型"
   ]
  },
  {
   "cell_type": "code",
   "execution_count": 40,
   "id": "106ebbe3-4b38-417c-b8c4-10bc4a28ee26",
   "metadata": {},
   "outputs": [],
   "source": [
    "def net(X):\n",
    "    return nd.dot(X,w) + b"
   ]
  },
  {
   "cell_type": "code",
   "execution_count": null,
   "id": "f697b673-659e-411c-ab3d-a665f9017593",
   "metadata": {},
   "outputs": [],
   "source": []
  }
 ],
 "metadata": {
  "kernelspec": {
   "display_name": "Python 3 (ipykernel)",
   "language": "python",
   "name": "python3"
  },
  "language_info": {
   "codemirror_mode": {
    "name": "ipython",
    "version": 3
   },
   "file_extension": ".py",
   "mimetype": "text/x-python",
   "name": "python",
   "nbconvert_exporter": "python",
   "pygments_lexer": "ipython3",
   "version": "3.10.9"
  }
 },
 "nbformat": 4,
 "nbformat_minor": 5
}
