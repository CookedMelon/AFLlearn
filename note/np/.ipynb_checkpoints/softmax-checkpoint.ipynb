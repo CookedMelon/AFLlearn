{
 "cells": [
  {
   "cell_type": "markdown",
   "id": "c530eb15-22ee-4427-a7b6-b9cdc1a08590",
   "metadata": {},
   "source": [
    "# softmax回归\n",
    "输出结果有多个，预测"
   ]
  },
  {
   "cell_type": "code",
   "execution_count": null,
   "id": "6734f135-0548-43dd-800a-99241b7a88fd",
   "metadata": {},
   "outputs": [],
   "source": []
  }
 ],
 "metadata": {
  "kernelspec": {
   "display_name": "Python 3 (ipykernel)",
   "language": "python",
   "name": "python3"
  },
  "language_info": {
   "codemirror_mode": {
    "name": "ipython",
    "version": 3
   },
   "file_extension": ".py",
   "mimetype": "text/x-python",
   "name": "python",
   "nbconvert_exporter": "python",
   "pygments_lexer": "ipython3",
   "version": "3.10.9"
  }
 },
 "nbformat": 4,
 "nbformat_minor": 5
}
