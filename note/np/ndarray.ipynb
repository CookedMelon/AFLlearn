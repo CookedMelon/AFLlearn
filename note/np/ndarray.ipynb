{
 "cells": [
  {
   "cell_type": "code",
   "execution_count": 1,
   "id": "05bd2fed-06be-4783-b2b8-5e02cbb0f8e2",
   "metadata": {},
   "outputs": [],
   "source": [
    "from mxnet import ndarray as nd"
   ]
  },
  {
   "cell_type": "code",
   "execution_count": 2,
   "id": "262ad747-70e0-4aed-bc16-eb2cd74e8a7d",
   "metadata": {},
   "outputs": [
    {
     "data": {
      "text/plain": [
       "\n",
       "[[0. 0. 0. 0.]\n",
       " [0. 0. 0. 0.]\n",
       " [0. 0. 0. 0.]]\n",
       "<NDArray 3x4 @cpu(0)>"
      ]
     },
     "execution_count": 2,
     "metadata": {},
     "output_type": "execute_result"
    }
   ],
   "source": [
    "nd.zeros((3,4))"
   ]
  },
  {
   "cell_type": "code",
   "execution_count": 3,
   "id": "df606527-f5f3-4592-b544-1ffd6294b43b",
   "metadata": {},
   "outputs": [],
   "source": [
    "x=nd.ones((4,5))"
   ]
  },
  {
   "cell_type": "code",
   "execution_count": 4,
   "id": "4daf5acb-0c10-494f-b537-cca2d87d9724",
   "metadata": {},
   "outputs": [
    {
     "data": {
      "text/plain": [
       "\n",
       "[[1. 1. 1. 1. 1.]\n",
       " [1. 1. 1. 1. 1.]\n",
       " [1. 1. 1. 1. 1.]\n",
       " [1. 1. 1. 1. 1.]]\n",
       "<NDArray 4x5 @cpu(0)>"
      ]
     },
     "execution_count": 4,
     "metadata": {},
     "output_type": "execute_result"
    }
   ],
   "source": [
    "x"
   ]
  },
  {
   "cell_type": "code",
   "execution_count": 6,
   "id": "7c86afc2-21e7-4804-ac2a-781cc00e9ed5",
   "metadata": {},
   "outputs": [
    {
     "data": {
      "text/plain": [
       "\n",
       "[[1. 3.]\n",
       " [3. 3.]]\n",
       "<NDArray 2x2 @cpu(0)>"
      ]
     },
     "execution_count": 6,
     "metadata": {},
     "output_type": "execute_result"
    }
   ],
   "source": [
    "nd.array([[1,3],[3,3]])"
   ]
  },
  {
   "cell_type": "markdown",
   "id": "3fc7876a-991c-4c19-9044-13101a5d9aba",
   "metadata": {},
   "source": [
    "# 线性回归\n",
    "$\\hat{y}=Xw+b$\n",
    "\n",
    "$y[i] = 2 * X[i][0] - 3.4 * X[i][1] + 4.2 + noise$\n",
    "\n",
    "noise为均值为0方差为0.1的正态分布噪音"
   ]
  },
  {
   "cell_type": "code",
   "execution_count": 11,
   "id": "26075347-1896-414c-b2db-2259d07b56bd",
   "metadata": {},
   "outputs": [],
   "source": [
    "from mxnet import ndarray as nd , autograd\n",
    "\n",
    "num_inputs = 2\n",
    "num_examples = 100\n",
    "true_w = [2, -3.4]\n",
    "true_b = 4.2\n",
    "X = nd.random_normal(shape=(num_examples,num_inputs))\n",
    "y = true_w[0] * X[:, 0] + true_w[1] * X[:, 1] + true_b\n",
    "y += .01 * nd.random_normal(shape=y.shape) # 均值为0方差为0.1的正态分布噪音"
   ]
  },
  {
   "cell_type": "code",
   "execution_count": 15,
   "id": "95e4a6e3-ee69-4a5a-badb-689ddbea15b5",
   "metadata": {},
   "outputs": [
    {
     "data": {
      "text/plain": [
       "\n",
       "[0.48841557]\n",
       "<NDArray 1 @cpu(0)>"
      ]
     },
     "execution_count": 15,
     "metadata": {},
     "output_type": "execute_result"
    }
   ],
   "source": [
    "X[0]\n",
    "y[0]"
   ]
  },
  {
   "cell_type": "markdown",
   "id": "1970cd19-ea18-4007-b7a0-969d37af55ec",
   "metadata": {},
   "source": [
    "## 数据读取"
   ]
  },
  {
   "cell_type": "code",
   "execution_count": 26,
   "id": "46b99dee-6bdf-40da-a5bb-9bb6f861809f",
   "metadata": {},
   "outputs": [],
   "source": [
    "import random\n",
    "batch_size = 10\n",
    "def data_iter():\n",
    "    idx = list(range(num_examples)) # 0,1,2...\n",
    "    # print(idx)\n",
    "    random.shuffle(idx) # 打乱\n",
    "    # print(idx)\n",
    "    for i in range(0,num_examples,batch_size):\n",
    "        j = nd.array(idx[i:min(i+batch_size,num_examples)])\n",
    "        yield nd.take(X, j), nd.take(y, j)"
   ]
  },
  {
   "cell_type": "code",
   "execution_count": 29,
   "id": "b7ea96c6-8ea0-4718-a08c-ce08d8693f46",
   "metadata": {},
   "outputs": [
    {
     "name": "stdout",
     "output_type": "stream",
     "text": [
      "\n",
      "[[ 0.16687097 -0.46041864]\n",
      " [ 1.1116904   1.4935805 ]\n",
      " [ 0.5618714   1.9614024 ]\n",
      " [ 0.98779184 -0.06212901]\n",
      " [-1.3985771   0.8675137 ]\n",
      " [-0.13258979  0.5115878 ]\n",
      " [ 0.09316857  0.11958748]\n",
      " [ 0.1746321  -1.458135  ]\n",
      " [-2.0169916  -0.6378048 ]\n",
      " [ 1.2391653   0.2518609 ]]\n",
      "<NDArray 10x2 @cpu(0)> \n",
      "[ 6.106396   1.3279362 -1.3384995  6.374099  -1.545251   2.1988962\n",
      "  3.975011   9.519801   2.3291712  5.8152966]\n",
      "<NDArray 10 @cpu(0)>\n"
     ]
    }
   ],
   "source": [
    "for data, label in data_iter():\n",
    "    print(data,label)\n",
    "    break\n",
    "    "
   ]
  },
  {
   "cell_type": "markdown",
   "id": "0b2be388-788c-4c4d-88e4-a27d4ccb14d0",
   "metadata": {},
   "source": [
    "## 初始化模型参数\n",
    "参考w ，b真实值，一个是2*1，一个是1*1\n",
    "初始时随便设值，之后不断更新w和b接近wb真实值"
   ]
  },
  {
   "cell_type": "code",
   "execution_count": 38,
   "id": "100bd8dd-9188-40ec-ae95-5ca8768924a9",
   "metadata": {},
   "outputs": [
    {
     "data": {
      "text/plain": [
       "[\n",
       " [[ 0.44456944]\n",
       "  [-0.01124159]]\n",
       " <NDArray 2x1 @cpu(0)>,\n",
       " \n",
       " [0.]\n",
       " <NDArray 1 @cpu(0)>]"
      ]
     },
     "execution_count": 38,
     "metadata": {},
     "output_type": "execute_result"
    }
   ],
   "source": [
    "w = nd.random_normal(shape=(num_inputs,1))\n",
    "b = nd.zeros((1, ))\n",
    "params = [w,b]\n",
    "params"
   ]
  },
  {
   "cell_type": "code",
   "execution_count": 39,
   "id": "d446d6d8-edf1-443b-8049-c8f204b8e093",
   "metadata": {},
   "outputs": [],
   "source": [
    "for param in params:\n",
    "    param.attach_grad() * 梯度下降"
   ]
  },
  {
   "cell_type": "markdown",
   "id": "bc049386-75bf-47fc-bc41-8eb0664f191b",
   "metadata": {},
   "source": [
    "## 定义模型"
   ]
  },
  {
   "cell_type": "code",
   "execution_count": 40,
   "id": "106ebbe3-4b38-417c-b8c4-10bc4a28ee26",
   "metadata": {},
   "outputs": [],
   "source": [
    "def net(X):\n",
    "    return nd.dot(X,w) + b"
   ]
  },
  {
   "cell_type": "markdown",
   "id": "493d80be-1efd-4d48-a6cd-1c4d2c9585cd",
   "metadata": {},
   "source": [
    "## 损失函数\n",
    "衡量预测目标和真实目标的差距\n"
   ]
  },
  {
   "cell_type": "code",
   "execution_count": 41,
   "id": "6e34ca6c-43d0-477b-b8ec-3f85de1df381",
   "metadata": {},
   "outputs": [],
   "source": [
    "def square_loss(yhat, y):\n",
    "    return (yhat - y.reshape(yhat.shape)) ** 2"
   ]
  },
  {
   "cell_type": "markdown",
   "id": "77cbc44f-901e-4760-ac6b-e1dad841c8c3",
   "metadata": {},
   "source": [
    "## 优化\n",
    "随机梯度下降\n"
   ]
  },
  {
   "cell_type": "code",
   "execution_count": 44,
   "id": "2b493720-33c5-457e-b86f-90c2524975b1",
   "metadata": {},
   "outputs": [],
   "source": [
    "def SGD(params, lr):\n",
    "    for param in params:\n",
    "        param[:] = param - lr * param.grad"
   ]
  },
  {
   "cell_type": "markdown",
   "id": "1b8bbb01-5048-44df-93b9-b0094ad61647",
   "metadata": {},
   "source": [
    "## 训练\n",
    "每次迭代随机读取固定数个数据点，计算梯度更新模型参数"
   ]
  },
  {
   "cell_type": "code",
   "execution_count": 56,
   "id": "60f8ecbb-fcac-453f-adb3-56c467966ee9",
   "metadata": {},
   "outputs": [
    {
     "name": "stdout",
     "output_type": "stream",
     "text": [
      "Epoch 0, average loss: 0.000097\n",
      "Epoch 1, average loss: 0.000096\n",
      "Epoch 2, average loss: 0.000096\n",
      "Epoch 3, average loss: 0.000095\n",
      "Epoch 4, average loss: 0.000095\n"
     ]
    }
   ],
   "source": [
    "epochs = 5\n",
    "learning_rate = .001\n",
    "for e in range(epochs):\n",
    "    totol_loss = 0\n",
    "    for data , label in data_iter():\n",
    "        with autograd.record():\n",
    "            output = net(data)\n",
    "            loss = square_loss(output, label)\n",
    "        loss.backward()\n",
    "        SGD(params, learning_rate)\n",
    "        \n",
    "        totol_loss += nd.sum(loss).asscalar()\n",
    "    print(\"Epoch %d, average loss: %f\" % (e,totol_loss/num_examples))"
   ]
  },
  {
   "attachments": {
    "d7fff4c6-d385-4b9f-9de1-b7f6fa7f645d.png": {
     "image/png": "[encoded data removed]"
    }
   },
   "cell_type": "markdown",
   "id": "ea4bf94d-cea2-475d-b429-71c8d0ae756a",
   "metadata": {},
   "source": [
    "![image.png](attachment:d7fff4c6-d385-4b9f-9de1-b7f6fa7f645d.png)\n"
   ]
  },
  {
   "cell_type": "code",
   "execution_count": 61,
   "id": "c0949350-a661-4938-b49e-dedac5eb9376",
   "metadata": {},
   "outputs": [
    {
     "data": {
      "text/plain": [
       "(4.2,\n",
       " \n",
       " [4.1989994]\n",
       " <NDArray 1 @cpu(0)>)"
      ]
     },
     "execution_count": 61,
     "metadata": {},
     "output_type": "execute_result"
    }
   ],
   "source": [
    "true_b,b\n"
   ]
  },
  {
   "cell_type": "code",
   "execution_count": 60,
   "id": "09078ae7-921b-4adf-ba09-76ad2eacb416",
   "metadata": {},
   "outputs": [
    {
     "data": {
      "text/plain": [
       "([2, -3.4],\n",
       " \n",
       " [[ 1.9960582]\n",
       "  [-3.3984983]]\n",
       " <NDArray 2x1 @cpu(0)>)"
      ]
     },
     "execution_count": 60,
     "metadata": {},
     "output_type": "execute_result"
    }
   ],
   "source": [
    "true_w,w"
   ]
  },
  {
   "cell_type": "code",
   "execution_count": null,
   "id": "8e2c7ee1-bd36-4ef5-8f50-0d03759745d9",
   "metadata": {},
   "outputs": [],
   "source": []
  }
 ],
 "metadata": {
  "kernelspec": {
   "display_name": "Python 3 (ipykernel)",
   "language": "python",
   "name": "python3"
  },
  "language_info": {
   "codemirror_mode": {
    "name": "ipython",
    "version": 3
   },
   "file_extension": ".py",
   "mimetype": "text/x-python",
   "name": "python",
   "nbconvert_exporter": "python",
   "pygments_lexer": "ipython3",
   "version": "3.10.9"
  }
 },
 "nbformat": 4,
 "nbformat_minor": 5
}
